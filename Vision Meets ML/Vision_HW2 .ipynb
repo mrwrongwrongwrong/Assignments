{
  "nbformat": 4,
  "nbformat_minor": 0,
  "metadata": {
    "colab": {
      "name": "yz_1268 HW2.ipynb",
      "provenance": [],
      "collapsed_sections": []
    },
    "kernelspec": {
      "name": "python3",
      "display_name": "Python 3"
    },
    "accelerator": "GPU",
    "widgets": {
      "application/vnd.jupyter.widget-state+json": {
        "3b274e6ea01e427dbe4357be48e741e7": {
          "model_module": "@jupyter-widgets/controls",
          "model_name": "HBoxModel",
          "state": {
            "_view_name": "HBoxView",
            "_dom_classes": [],
            "_model_name": "HBoxModel",
            "_view_module": "@jupyter-widgets/controls",
            "_model_module_version": "1.5.0",
            "_view_count": null,
            "_view_module_version": "1.5.0",
            "box_style": "",
            "layout": "IPY_MODEL_c4987c1873d142a98748d354f7e082ca",
            "_model_module": "@jupyter-widgets/controls",
            "children": [
              "IPY_MODEL_b96af2ff54794916851a75d71dc5e633",
              "IPY_MODEL_9a288a6f571443ab8135cec981894100"
            ]
          }
        },
        "c4987c1873d142a98748d354f7e082ca": {
          "model_module": "@jupyter-widgets/base",
          "model_name": "LayoutModel",
          "state": {
            "_view_name": "LayoutView",
            "grid_template_rows": null,
            "right": null,
            "justify_content": null,
            "_view_module": "@jupyter-widgets/base",
            "overflow": null,
            "_model_module_version": "1.2.0",
            "_view_count": null,
            "flex_flow": null,
            "width": null,
            "min_width": null,
            "border": null,
            "align_items": null,
            "bottom": null,
            "_model_module": "@jupyter-widgets/base",
            "top": null,
            "grid_column": null,
            "overflow_y": null,
            "overflow_x": null,
            "grid_auto_flow": null,
            "grid_area": null,
            "grid_template_columns": null,
            "flex": null,
            "_model_name": "LayoutModel",
            "justify_items": null,
            "grid_row": null,
            "max_height": null,
            "align_content": null,
            "visibility": null,
            "align_self": null,
            "height": null,
            "min_height": null,
            "padding": null,
            "grid_auto_rows": null,
            "grid_gap": null,
            "max_width": null,
            "order": null,
            "_view_module_version": "1.2.0",
            "grid_template_areas": null,
            "object_position": null,
            "object_fit": null,
            "grid_auto_columns": null,
            "margin": null,
            "display": null,
            "left": null
          }
        },
        "b96af2ff54794916851a75d71dc5e633": {
          "model_module": "@jupyter-widgets/controls",
          "model_name": "FloatProgressModel",
          "state": {
            "_view_name": "ProgressView",
            "style": "IPY_MODEL_e78b0bd4f3124879be34c0c9ad3e8f66",
            "_dom_classes": [],
            "description": "",
            "_model_name": "FloatProgressModel",
            "bar_style": "success",
            "max": 170498071,
            "_view_module": "@jupyter-widgets/controls",
            "_model_module_version": "1.5.0",
            "value": 170498071,
            "_view_count": null,
            "_view_module_version": "1.5.0",
            "orientation": "horizontal",
            "min": 0,
            "description_tooltip": null,
            "_model_module": "@jupyter-widgets/controls",
            "layout": "IPY_MODEL_a1aea0159e9d4592830e2ab50a9c8280"
          }
        },
        "9a288a6f571443ab8135cec981894100": {
          "model_module": "@jupyter-widgets/controls",
          "model_name": "HTMLModel",
          "state": {
            "_view_name": "HTMLView",
            "style": "IPY_MODEL_5892cd27040b4a67945f94a07d1f04be",
            "_dom_classes": [],
            "description": "",
            "_model_name": "HTMLModel",
            "placeholder": "​",
            "_view_module": "@jupyter-widgets/controls",
            "_model_module_version": "1.5.0",
            "value": " 170499072/? [00:10&lt;00:00, 17002471.96it/s]",
            "_view_count": null,
            "_view_module_version": "1.5.0",
            "description_tooltip": null,
            "_model_module": "@jupyter-widgets/controls",
            "layout": "IPY_MODEL_a1f42ab7f73049cab05a881fafe6b9a5"
          }
        },
        "e78b0bd4f3124879be34c0c9ad3e8f66": {
          "model_module": "@jupyter-widgets/controls",
          "model_name": "ProgressStyleModel",
          "state": {
            "_view_name": "StyleView",
            "_model_name": "ProgressStyleModel",
            "description_width": "initial",
            "_view_module": "@jupyter-widgets/base",
            "_model_module_version": "1.5.0",
            "_view_count": null,
            "_view_module_version": "1.2.0",
            "bar_color": null,
            "_model_module": "@jupyter-widgets/controls"
          }
        },
        "a1aea0159e9d4592830e2ab50a9c8280": {
          "model_module": "@jupyter-widgets/base",
          "model_name": "LayoutModel",
          "state": {
            "_view_name": "LayoutView",
            "grid_template_rows": null,
            "right": null,
            "justify_content": null,
            "_view_module": "@jupyter-widgets/base",
            "overflow": null,
            "_model_module_version": "1.2.0",
            "_view_count": null,
            "flex_flow": null,
            "width": null,
            "min_width": null,
            "border": null,
            "align_items": null,
            "bottom": null,
            "_model_module": "@jupyter-widgets/base",
            "top": null,
            "grid_column": null,
            "overflow_y": null,
            "overflow_x": null,
            "grid_auto_flow": null,
            "grid_area": null,
            "grid_template_columns": null,
            "flex": null,
            "_model_name": "LayoutModel",
            "justify_items": null,
            "grid_row": null,
            "max_height": null,
            "align_content": null,
            "visibility": null,
            "align_self": null,
            "height": null,
            "min_height": null,
            "padding": null,
            "grid_auto_rows": null,
            "grid_gap": null,
            "max_width": null,
            "order": null,
            "_view_module_version": "1.2.0",
            "grid_template_areas": null,
            "object_position": null,
            "object_fit": null,
            "grid_auto_columns": null,
            "margin": null,
            "display": null,
            "left": null
          }
        },
        "5892cd27040b4a67945f94a07d1f04be": {
          "model_module": "@jupyter-widgets/controls",
          "model_name": "DescriptionStyleModel",
          "state": {
            "_view_name": "StyleView",
            "_model_name": "DescriptionStyleModel",
            "description_width": "",
            "_view_module": "@jupyter-widgets/base",
            "_model_module_version": "1.5.0",
            "_view_count": null,
            "_view_module_version": "1.2.0",
            "_model_module": "@jupyter-widgets/controls"
          }
        },
        "a1f42ab7f73049cab05a881fafe6b9a5": {
          "model_module": "@jupyter-widgets/base",
          "model_name": "LayoutModel",
          "state": {
            "_view_name": "LayoutView",
            "grid_template_rows": null,
            "right": null,
            "justify_content": null,
            "_view_module": "@jupyter-widgets/base",
            "overflow": null,
            "_model_module_version": "1.2.0",
            "_view_count": null,
            "flex_flow": null,
            "width": null,
            "min_width": null,
            "border": null,
            "align_items": null,
            "bottom": null,
            "_model_module": "@jupyter-widgets/base",
            "top": null,
            "grid_column": null,
            "overflow_y": null,
            "overflow_x": null,
            "grid_auto_flow": null,
            "grid_area": null,
            "grid_template_columns": null,
            "flex": null,
            "_model_name": "LayoutModel",
            "justify_items": null,
            "grid_row": null,
            "max_height": null,
            "align_content": null,
            "visibility": null,
            "align_self": null,
            "height": null,
            "min_height": null,
            "padding": null,
            "grid_auto_rows": null,
            "grid_gap": null,
            "max_width": null,
            "order": null,
            "_view_module_version": "1.2.0",
            "grid_template_areas": null,
            "object_position": null,
            "object_fit": null,
            "grid_auto_columns": null,
            "margin": null,
            "display": null,
            "left": null
          }
        }
      }
    }
  },
  "cells": [
    {
      "cell_type": "code",
      "metadata": {
        "id": "xLix0g9RS3Xn"
      },
      "source": [
        ""
      ],
      "execution_count": null,
      "outputs": []
    },
    {
      "cell_type": "markdown",
      "metadata": {
        "id": "DwXuQJz1TEB1"
      },
      "source": [
        "CSCI-GA.3033-​076 Vision Meets Machine Learning Assignment-2\n",
        "\n",
        "In this assignment, you will train the Resnet18 classifier on the CIFAR-10 dataset and do the statistical analysis of the classification. "
      ]
    },
    {
      "cell_type": "markdown",
      "metadata": {
        "id": "6FenaSitT4Pn"
      },
      "source": [
        "Submission Info\n",
        "\n",
        "You should make a copy of this Colab (File->Save a copy in Drive). Please start the assignment early and don’t be afraid to ask for help from either the TAs or myself. You are allowed to collaborate with other students in terms discussing ideas and possible solutions. However you code up the solution yourself, i.e. you must write your own code. Copying your friends code and just changing all the names of the variables is not allowed! You are not allowed to use solutions from similar assignments in courses from other institutions, or those found elsewhere on the web. Your solutions should be submitted via the NYU classes system."
      ]
    },
    {
      "cell_type": "markdown",
      "metadata": {
        "id": "9iFhQUNgUBI8"
      },
      "source": [
        "# **Part 1- Training The Resnet classifier (40 Points)**"
      ]
    },
    {
      "cell_type": "code",
      "metadata": {
        "id": "7adcOfQVTyPz"
      },
      "source": [
        "import torch\n",
        "import torchvision\n",
        "import torchvision.transforms as transforms\n",
        "from torchvision import datasets, models, transforms\n",
        "import torch.nn as nn\n",
        "import torch.optim as optim\n",
        "import matplotlib.pyplot as plt\n",
        "import numpy as np\n",
        "import torch.optim as optim"
      ],
      "execution_count": 2,
      "outputs": []
    },
    {
      "cell_type": "code",
      "metadata": {
        "id": "UA0VbXgTUSQz",
        "colab": {
          "base_uri": "https://localhost:8080/",
          "height": 117,
          "referenced_widgets": [
            "3b274e6ea01e427dbe4357be48e741e7",
            "c4987c1873d142a98748d354f7e082ca",
            "b96af2ff54794916851a75d71dc5e633",
            "9a288a6f571443ab8135cec981894100",
            "e78b0bd4f3124879be34c0c9ad3e8f66",
            "a1aea0159e9d4592830e2ab50a9c8280",
            "5892cd27040b4a67945f94a07d1f04be",
            "a1f42ab7f73049cab05a881fafe6b9a5"
          ]
        },
        "outputId": "7acc5b45-caca-4d21-9a48-4e672e7b55e7"
      },
      "source": [
        "# The CIFAR-10 dataset is available in the pytorch module.\n",
        "#  http://www.cs.toronto.edu/~kriz/cifar.html\n",
        "# Only normalization tranformation is applied. You can choose to apply data augmentation techniques as well.\n",
        "\n",
        "transform = transforms.Compose(\n",
        "    [transforms.ToTensor(),\n",
        "     transforms.Normalize((0.5, 0.5, 0.5), (0.5, 0.5, 0.5))])\n",
        "\n",
        "#Loading the training data\n",
        "trainset = torchvision.datasets.CIFAR10(root='./data', train=True,\n",
        "                                        download=True, transform=transform)\n",
        "trainloader = torch.utils.data.DataLoader(trainset, batch_size=4,\n",
        "                                          shuffle=True, num_workers=2)\n",
        "\n",
        "#Loading the testing data\n",
        "testset = torchvision.datasets.CIFAR10(root='./data', train=False,\n",
        "                                       download=True, transform=transform)\n",
        "testloader = torch.utils.data.DataLoader(testset, batch_size=4,\n",
        "                                         shuffle=False, num_workers=2)\n",
        "\n",
        "classes = ('plane', 'car', 'bird', 'cat',\n",
        "           'deer', 'dog', 'frog', 'horse', 'ship', 'truck')\n",
        "\n"
      ],
      "execution_count": 3,
      "outputs": [
        {
          "output_type": "stream",
          "text": [
            "Downloading https://www.cs.toronto.edu/~kriz/cifar-10-python.tar.gz to ./data/cifar-10-python.tar.gz\n"
          ],
          "name": "stdout"
        },
        {
          "output_type": "display_data",
          "data": {
            "application/vnd.jupyter.widget-view+json": {
              "model_id": "3b274e6ea01e427dbe4357be48e741e7",
              "version_minor": 0,
              "version_major": 2
            },
            "text/plain": [
              "HBox(children=(FloatProgress(value=0.0, max=170498071.0), HTML(value='')))"
            ]
          },
          "metadata": {
            "tags": []
          }
        },
        {
          "output_type": "stream",
          "text": [
            "\n",
            "Extracting ./data/cifar-10-python.tar.gz to ./data\n",
            "Files already downloaded and verified\n"
          ],
          "name": "stdout"
        }
      ]
    },
    {
      "cell_type": "code",
      "metadata": {
        "id": "f153wdIyVGvt"
      },
      "source": [
        "# functions to show an image\n",
        "def imshow(img):\n",
        "    img = img / 2 + 0.5     # unnormalize\n",
        "    npimg = img.numpy()\n",
        "    plt.imshow(np.transpose(npimg, (1, 2, 0)))\n",
        "    plt.show()\n"
      ],
      "execution_count": 4,
      "outputs": []
    },
    {
      "cell_type": "markdown",
      "metadata": {
        "id": "S91a0B49VMUb"
      },
      "source": [
        "**Question - 1. Show any 4 random images from the dataset.(10 Points)**"
      ]
    },
    {
      "cell_type": "code",
      "metadata": {
        "id": "59R5MwDfWoKU",
        "colab": {
          "base_uri": "https://localhost:8080/",
          "height": 1000
        },
        "outputId": "5dbf3d6e-4cdf-41d3-babd-e568a633f962"
      },
      "source": [
        "#image = trainset(root = './data')\n",
        "image = testloader\n",
        "batch_x, batch_y = next(iter(testloader))\n",
        "image = batch_x[0][0].reshape(32,32)\n",
        "#image = image.fromarray(image)\n",
        "next(iter(testloader))\n",
        "\n",
        "#print(next(iter(testloader)))\n",
        "for i in range(4):\n",
        "  imshow(next(iter(testloader))[0][i])"
      ],
      "execution_count": 5,
      "outputs": [
        {
          "output_type": "display_data",
          "data": {
            "image/png": "[encoded data removed]",
            "text/plain": [
              "<Figure size 432x288 with 1 Axes>"
            ]
          },
          "metadata": {
            "tags": [],
            "needs_background": "light"
          }
        },
        {
          "output_type": "display_data",
          "data": {
            "image/png": "[encoded data removed]",
            "text/plain": [
              "<Figure size 432x288 with 1 Axes>"
            ]
          },
          "metadata": {
            "tags": [],
            "needs_background": "light"
          }
        },
        {
          "output_type": "display_data",
          "data": {
            "image/png": "[encoded data removed]",
            "text/plain": [
              "<Figure size 432x288 with 1 Axes>"
            ]
          },
          "metadata": {
            "tags": [],
            "needs_background": "light"
          }
        },
        {
          "output_type": "display_data",
          "data": {
            "image/png": "[encoded data removed]",
            "text/plain": [
              "<Figure size 432x288 with 1 Axes>"
            ]
          },
          "metadata": {
            "tags": [],
            "needs_background": "light"
          }
        }
      ]
    },
    {
      "cell_type": "code",
      "metadata": {
        "colab": {
          "base_uri": "https://localhost:8080/"
        },
        "id": "Bp_OPLIkVXew",
        "outputId": "09f52638-70db-4e6d-91b3-34b39a1e972e"
      },
      "source": [
        "# Using the GPU available on the google colab\n",
        "if torch.cuda.device_count() > 0:\n",
        "    current_device = 'cuda'\n",
        "else:\n",
        "    current_device = 'cpu'\n",
        "print('Current Device: ' + current_device)"
      ],
      "execution_count": 6,
      "outputs": [
        {
          "output_type": "stream",
          "text": [
            "Current Device: cuda\n"
          ],
          "name": "stdout"
        }
      ]
    },
    {
      "cell_type": "code",
      "metadata": {
        "id": "yeYPJ-VFVaPN"
      },
      "source": [
        "# Intiating the Resnet18 model from the torch module. Setting pretrained = False because we're training it from the scratch\n",
        "net = models.resnet18(pretrained= False)\n",
        "num_classes = 10"
      ],
      "execution_count": 7,
      "outputs": []
    },
    {
      "cell_type": "markdown",
      "metadata": {
        "id": "MznIxi5SWqMj"
      },
      "source": [
        "**Question-2. The Resnet18 model intialized here contains 1000 output classes change it to 10 classes in the model.(10 Points)**"
      ]
    },
    {
      "cell_type": "code",
      "metadata": {
        "id": "hERWGnNtXji6"
      },
      "source": [
        "\n",
        "torchvision.models.resnet18(pretrained = False).fc.num_classes = 10\n",
        "\n",
        "#torchvision.models.resnet18(pretrained=False, progress=True, **kwargs)\n",
        "##https://discuss.pytorch.org/t/changing-in-features-in-fc-layer-for-resnet18-in-torchvision/21445/2\n",
        "#resnet18 = torchvision.models.resnet18(pretrained = False)\n",
        "#resnet18.fc.out_features = 10\n",
        "#torchvision.models.resnet18(pretrained = False).fc.out_features = 10"
      ],
      "execution_count": 8,
      "outputs": []
    },
    {
      "cell_type": "code",
      "metadata": {
        "id": "wj5kPOY5XQ-N"
      },
      "source": [
        "#Model training\n",
        "\n",
        "net = net.to(current_device)\n",
        "\n",
        "\n",
        "criterion = nn.CrossEntropyLoss()\n",
        "#You can expermient with different lr and momentum\n",
        "optimizer = optim.SGD(net.parameters(), lr=0.001, momentum=0.9)\n",
        "\n",
        "num_epochs = 20\n",
        "\n",
        "for epoch in range(num_epochs):  # loop over the dataset multiple times\n",
        "\n",
        "    running_loss = 0.0\n",
        "    for i, data in enumerate(trainloader, 0):\n",
        "        # get the inputs; data is a list of [inputs, labels]\n",
        "        inputs, labels = data\n",
        "        \n",
        "        inputs = inputs.to(current_device)\n",
        "        labels = labels.to(current_device)\n",
        "\n",
        "        # zero the parameter gradients\n",
        "        optimizer.zero_grad()\n",
        "\n",
        "        # forward + backward + optimize\n",
        "        outputs = net(inputs)\n",
        "        loss = criterion(outputs, labels)\n",
        "        loss.backward()\n",
        "        optimizer.step()\n",
        "\n",
        "        # print statistics\n",
        "        running_loss += loss.item()\n",
        "        if i % 2000 == 1999:    # print every 2000 mini-batches\n",
        "            print('[%d, %5d] loss: %.3f' %\n",
        "                  (epoch + 1, i + 1, running_loss / 2000))\n",
        "            running_loss = 0.0\n",
        "\n",
        "print('Finished Training')"
      ],
      "execution_count": null,
      "outputs": []
    },
    {
      "cell_type": "markdown",
      "metadata": {
        "id": "7cHKIYhiX-DC"
      },
      "source": [
        "**Question-3. (i).Plot the loss with epoch for lr = [10, 1, 0.1, 0.01, 0.001] and make comments about how high lr effects the training. (20 Points)**"
      ]
    },
    {
      "cell_type": "markdown",
      "metadata": {
        "id": "ExhWeOltXqMo"
      },
      "source": [
        "We train the model using different lr. And we repeat the program four times. "
      ]
    },
    {
      "cell_type": "code",
      "metadata": {
        "colab": {
          "base_uri": "https://localhost:8080/",
          "height": 685
        },
        "id": "Kc_sn8r-OEz9",
        "outputId": "1e4e5d1e-85b7-4323-e6ac-ddaab1125d8a"
      },
      "source": [
        "#plot with lr=0.001\n",
        "\n",
        "net = net.to(current_device)\n",
        "\n",
        "criterion = nn.CrossEntropyLoss()\n",
        "#You can expermient with different lr and momentum\n",
        "optimizer = optim.SGD(net.parameters(), lr=0.001, momentum=0.9)\n",
        "\n",
        "num_epochs = 20\n",
        "y_1=[]\n",
        "for epoch in range(num_epochs):  # loop over the dataset multiple times\n",
        "\n",
        "    running_loss = 0.0\n",
        "    for i, data in enumerate(trainloader, 0):\n",
        "        # get the inputs; data is a list of [inputs, labels]\n",
        "        inputs, labels = data\n",
        "        #data is tensor format\n",
        "        data_temp = data\n",
        "\n",
        "        inputs = inputs.to(current_device)\n",
        "        labels = labels.to(current_device)\n",
        "\n",
        "        # zero the parameter gradients\n",
        "        optimizer.zero_grad()\n",
        "\n",
        "        # forward + backward + optimize\n",
        "        outputs = net(inputs)\n",
        "        loss = criterion(outputs, labels)\n",
        "        loss.backward()\n",
        "        optimizer.step()\n",
        "\n",
        "        # print statistics\n",
        "        running_loss += loss.item()\n",
        "        \n",
        "        rs=running_loss/len(trainloader)\n",
        "\n",
        "    y_1.append(rs)\n",
        "    print(\"The loss {:.4f} of {:.1f}th epoch\".format(rs,epoch))\n",
        "\n",
        "print('Finished Training') \n",
        "\n",
        "\n",
        "print('y_1',y_1)\n",
        "x_1=[i+1 for i in range(num_epochs)]\n",
        "plt.plot(x_1, y_1, color = 'blue')\n",
        "plt.ylabel('loss')\n",
        "plt.xlabel('epoch')\n",
        "plt.title('Loss with epochs: lr={:.3f}'.format(0.001))\n",
        "plt.show()\n"
      ],
      "execution_count": null,
      "outputs": [
        {
          "output_type": "stream",
          "text": [
            "The loss 1.9357 of 0.0th epoch\n",
            "The loss 1.5037 of 1.0th epoch\n",
            "The loss 1.2627 of 2.0th epoch\n",
            "The loss 1.1062 of 3.0th epoch\n",
            "The loss 1.0000 of 4.0th epoch\n",
            "The loss 0.8982 of 5.0th epoch\n",
            "The loss 0.8203 of 6.0th epoch\n",
            "The loss 0.7468 of 7.0th epoch\n",
            "The loss 0.6843 of 8.0th epoch\n",
            "The loss 0.6287 of 9.0th epoch\n",
            "The loss 0.5727 of 10.0th epoch\n",
            "The loss 0.5543 of 11.0th epoch\n",
            "The loss 0.5758 of 12.0th epoch\n",
            "The loss 0.4657 of 13.0th epoch\n",
            "The loss 0.4066 of 14.0th epoch\n",
            "The loss 0.3518 of 15.0th epoch\n",
            "The loss 0.3235 of 16.0th epoch\n",
            "The loss 0.2926 of 17.0th epoch\n",
            "The loss 0.2604 of 18.0th epoch\n",
            "The loss 0.2358 of 19.0th epoch\n",
            "Finished Training\n",
            "y_1 [1.935743842713833, 1.503655087788105, 1.262741921892166, 1.1061719396439196, 1.0000448625150322, 0.8982223949119449, 0.8203420413383842, 0.7468395712598414, 0.6842967488002032, 0.6287334252687916, 0.5726697312675976, 0.55432781459135, 0.5757755493981856, 0.46573089539634993, 0.40664581521577203, 0.35182867714421356, 0.3235348356577242, 0.29255982105711414, 0.2604413355315651, 0.23580885405671959]\n"
          ],
          "name": "stdout"
        },
        {
          "output_type": "display_data",
          "data": {
            "image/png": "[encoded data removed]",
            "text/plain": [
              "<Figure size 432x288 with 1 Axes>"
            ]
          },
          "metadata": {
            "tags": [],
            "needs_background": "light"
          }
        }
      ]
    },
    {
      "cell_type": "code",
      "metadata": {
        "colab": {
          "base_uri": "https://localhost:8080/",
          "height": 685
        },
        "id": "7e_BiATjVNAY",
        "outputId": "f59f680a-6e9b-42de-d1a1-c2bdd316ffc3"
      },
      "source": [
        "#plot with lr=0.01\n",
        "\n",
        "net = net.to(current_device)\n",
        "\n",
        "criterion = nn.CrossEntropyLoss()\n",
        "#You can expermient with different lr and momentum\n",
        "optimizer = optim.SGD(net.parameters(), lr=0.01, momentum=0.9)\n",
        "\n",
        "num_epochs = 20\n",
        "y_1=[]\n",
        "for epoch in range(num_epochs):  # loop over the dataset multiple times\n",
        "\n",
        "    running_loss = 0.0\n",
        "    for i, data in enumerate(trainloader, 0):\n",
        "        # get the inputs; data is a list of [inputs, labels]\n",
        "        inputs, labels = data\n",
        "        #data is tensor format\n",
        "        data_temp = data\n",
        "\n",
        "        inputs = inputs.to(current_device)\n",
        "        labels = labels.to(current_device)\n",
        "\n",
        "        # zero the parameter gradients\n",
        "        optimizer.zero_grad()\n",
        "\n",
        "        # forward + backward + optimize\n",
        "        outputs = net(inputs)\n",
        "        loss = criterion(outputs, labels)\n",
        "        loss.backward()\n",
        "        optimizer.step()\n",
        "\n",
        "        # print statistics\n",
        "        running_loss += loss.item()\n",
        "        \n",
        "        rs=running_loss/len(trainloader)\n",
        "\n",
        "    y_1.append(rs)\n",
        "    print(\"The loss {:.4f} of {:.1f}th epoch\".format(rs,epoch))\n",
        "\n",
        "print('Finished Training') \n",
        "\n",
        "\n",
        "print('y_1',y_1)\n",
        "x_1=[i+1 for i in range(num_epochs)]\n",
        "plt.plot(x_1, y_1, color = 'blue')\n",
        "plt.ylabel('loss')\n",
        "plt.xlabel('epoch')\n",
        "plt.title('Loss with epochs: lr={:.3f}'.format(0.01))\n",
        "plt.show()\n"
      ],
      "execution_count": null,
      "outputs": [
        {
          "output_type": "stream",
          "text": [
            "The loss 2.3126 of 0.0th epoch\n",
            "The loss 1.9720 of 1.0th epoch\n",
            "The loss 1.8515 of 2.0th epoch\n",
            "The loss 1.7777 of 3.0th epoch\n",
            "The loss 1.6526 of 4.0th epoch\n",
            "The loss 1.6123 of 5.0th epoch\n",
            "The loss 1.5289 of 6.0th epoch\n",
            "The loss 1.4463 of 7.0th epoch\n",
            "The loss 1.4170 of 8.0th epoch\n",
            "The loss 1.3634 of 9.0th epoch\n",
            "The loss 1.3734 of 10.0th epoch\n",
            "The loss 1.3484 of 11.0th epoch\n",
            "The loss 1.3028 of 12.0th epoch\n",
            "The loss 1.2432 of 13.0th epoch\n",
            "The loss 1.1901 of 14.0th epoch\n",
            "The loss 1.3714 of 15.0th epoch\n",
            "The loss 1.2776 of 16.0th epoch\n",
            "The loss 1.2040 of 17.0th epoch\n",
            "The loss 1.1780 of 18.0th epoch\n",
            "The loss 1.1304 of 19.0th epoch\n",
            "Finished Training\n",
            "y_1 [2.312605395245552, 1.9720034878587722, 1.8515487823200225, 1.777710061006546, 1.652575764708519, 1.612315335521698, 1.528870874004364, 1.446331008478999, 1.416986025300026, 1.3633770499438047, 1.3733597325110436, 1.3483911937600375, 1.3028378129804135, 1.243178111949861, 1.190117179442048, 1.3713968524640798, 1.2775616984584928, 1.2039706922855973, 1.1779969086541235, 1.1303554302094876]\n"
          ],
          "name": "stdout"
        },
        {
          "output_type": "display_data",
          "data": {
            "image/png": "[encoded data removed]",
            "text/plain": [
              "<Figure size 432x288 with 1 Axes>"
            ]
          },
          "metadata": {
            "tags": [],
            "needs_background": "light"
          }
        }
      ]
    },
    {
      "cell_type": "code",
      "metadata": {
        "id": "Crt9HEWuZsFp",
        "colab": {
          "base_uri": "https://localhost:8080/",
          "height": 689
        },
        "outputId": "4bdff7df-0a42-4036-ccd5-6b22cafbeba7"
      },
      "source": [
        "#plot with lr=0.1\n",
        "\n",
        "net = net.to(current_device)\n",
        "\n",
        "criterion = nn.CrossEntropyLoss()\n",
        "#You can expermient with different lr and momentum\n",
        "optimizer = optim.SGD(net.parameters(), lr=0.1, momentum=0.9)\n",
        "\n",
        "num_epochs = 20\n",
        "y_1=[]\n",
        "for epoch in range(num_epochs):  # loop over the dataset multiple times\n",
        "\n",
        "    running_loss = 0.0\n",
        "    for i, data in enumerate(trainloader, 0):\n",
        "        # get the inputs; data is a list of [inputs, labels]\n",
        "        inputs, labels = data\n",
        "        #data is tensor format\n",
        "        data_temp = data\n",
        "\n",
        "        inputs = inputs.to(current_device)\n",
        "        labels = labels.to(current_device)\n",
        "\n",
        "        # zero the parameter gradients\n",
        "        optimizer.zero_grad()\n",
        "\n",
        "        # forward + backward + optimize\n",
        "        outputs = net(inputs)\n",
        "        loss = criterion(outputs, labels)\n",
        "        loss.backward()\n",
        "        optimizer.step()\n",
        "\n",
        "        # print statistics\n",
        "        running_loss += loss.item()\n",
        "        \n",
        "        rs=running_loss/len(trainloader)\n",
        "\n",
        "    y_1.append(rs)\n",
        "    print(\"The loss {:.4f} of {:.1f}th epoch\".format(rs,epoch))\n",
        "\n",
        "print('Finished Training') \n",
        "\n",
        "\n",
        "print('y_1',y_1)\n",
        "x_1=[i+1 for i in range(num_epochs)]\n",
        "plt.plot(x_1, y_1, color = 'blue')\n",
        "plt.ylabel('loss')\n",
        "plt.xlabel('epoch')\n",
        "plt.title('Loss with epochs: lr={:.3f}'.format(10))\n",
        "plt.show()\n"
      ],
      "execution_count": 8,
      "outputs": [
        {
          "output_type": "stream",
          "text": [
            "The loss 2.4306 of 0.0th epoch\n",
            "The loss 2.3604 of 1.0th epoch\n",
            "The loss 2.3588 of 2.0th epoch\n",
            "The loss 2.3600 of 3.0th epoch\n",
            "The loss 2.3599 of 4.0th epoch\n",
            "The loss 2.3612 of 5.0th epoch\n",
            "The loss 2.3613 of 6.0th epoch\n",
            "The loss 2.3614 of 7.0th epoch\n",
            "The loss 2.3616 of 8.0th epoch\n",
            "The loss 2.3610 of 9.0th epoch\n",
            "The loss 2.3614 of 10.0th epoch\n",
            "The loss 2.3613 of 11.0th epoch\n",
            "The loss 2.3606 of 12.0th epoch\n",
            "The loss 2.3601 of 13.0th epoch\n",
            "The loss 2.3593 of 14.0th epoch\n",
            "The loss 2.3600 of 15.0th epoch\n",
            "The loss 2.3597 of 16.0th epoch\n",
            "The loss 2.3601 of 17.0th epoch\n",
            "The loss 2.3611 of 18.0th epoch\n",
            "The loss 2.3591 of 19.0th epoch\n",
            "Finished Training\n",
            "y_1 [2.430642212381363, 2.360353970499039, 2.3587818896770476, 2.3600145591259003, 2.359878033399582, 2.361228839969635, 2.361331450099945, 2.3613592383384705, 2.3616038881015777, 2.3609536876010893, 2.3614098946094515, 2.361262257089615, 2.3605912211322786, 2.360051786689758, 2.3592517997455595, 2.360007543449402, 2.359678150615692, 2.360129899082184, 2.361143624200821, 2.3591290578460695]\n"
          ],
          "name": "stdout"
        },
        {
          "output_type": "display_data",
          "data": {
            "image/png": "[encoded data removed]",
            "text/plain": [
              "<Figure size 432x288 with 1 Axes>"
            ]
          },
          "metadata": {
            "tags": [],
            "needs_background": "light"
          }
        }
      ]
    },
    {
      "cell_type": "code",
      "metadata": {
        "colab": {
          "base_uri": "https://localhost:8080/",
          "height": 665
        },
        "id": "GOcyxudFVD6C",
        "outputId": "e5927495-b841-4b81-bea7-2b5f0fb10dd0"
      },
      "source": [
        "#plot with lr=1\n",
        "\n",
        "net = net.to(current_device)\n",
        "\n",
        "criterion = nn.CrossEntropyLoss()\n",
        "#You can expermient with different lr and momentum\n",
        "optimizer = optim.SGD(net.parameters(), lr=1, momentum=0.9)\n",
        "\n",
        "num_epochs = 20\n",
        "y_1=[]\n",
        "for epoch in range(num_epochs):  # loop over the dataset multiple times\n",
        "\n",
        "    running_loss = 0.0\n",
        "    for i, data in enumerate(trainloader, 0):\n",
        "        # get the inputs; data is a list of [inputs, labels]\n",
        "        inputs, labels = data\n",
        "        #data is tensor format\n",
        "        data_temp = data\n",
        "\n",
        "        inputs = inputs.to(current_device)\n",
        "        labels = labels.to(current_device)\n",
        "\n",
        "        # zero the parameter gradients\n",
        "        optimizer.zero_grad()\n",
        "\n",
        "        # forward + backward + optimize\n",
        "        outputs = net(inputs)\n",
        "        loss = criterion(outputs, labels)\n",
        "        loss.backward()\n",
        "        optimizer.step()\n",
        "\n",
        "        # print statistics\n",
        "        running_loss += loss.item()\n",
        "        \n",
        "        rs=running_loss/len(trainloader)\n",
        "\n",
        "    y_1.append(rs)\n",
        "    print(\"The loss {:.4f} of {:.1f}th epoch\".format(rs,epoch))\n",
        "\n",
        "print('Finished Training') \n",
        "\n",
        "\n",
        "print('y_1',y_1)\n",
        "x_1=[i+1 for i in range(num_epochs)]\n",
        "plt.plot(x_1, y_1, color = 'blue')\n",
        "plt.ylabel('loss')\n",
        "plt.xlabel('epoch')\n",
        "plt.title('Loss with epochs: lr={:.3f}'.format(1))\n",
        "plt.show()\n"
      ],
      "execution_count": null,
      "outputs": [
        {
          "output_type": "stream",
          "text": [
            "The loss nan of 0.0th epoch\n",
            "The loss nan of 1.0th epoch\n",
            "The loss nan of 2.0th epoch\n",
            "The loss nan of 3.0th epoch\n",
            "The loss nan of 4.0th epoch\n",
            "The loss nan of 5.0th epoch\n",
            "The loss nan of 6.0th epoch\n",
            "The loss nan of 7.0th epoch\n",
            "The loss nan of 8.0th epoch\n",
            "The loss nan of 9.0th epoch\n",
            "The loss nan of 10.0th epoch\n",
            "The loss nan of 11.0th epoch\n",
            "The loss nan of 12.0th epoch\n",
            "The loss nan of 13.0th epoch\n",
            "The loss nan of 14.0th epoch\n",
            "The loss nan of 15.0th epoch\n",
            "The loss nan of 16.0th epoch\n",
            "The loss nan of 17.0th epoch\n",
            "The loss nan of 18.0th epoch\n",
            "The loss nan of 19.0th epoch\n",
            "Finished Training\n",
            "y_1 [nan, nan, nan, nan, nan, nan, nan, nan, nan, nan, nan, nan, nan, nan, nan, nan, nan, nan, nan, nan]\n"
          ],
          "name": "stdout"
        },
        {
          "output_type": "display_data",
          "data": {
            "image/png": "[encoded data removed]",
            "text/plain": [
              "<Figure size 432x288 with 1 Axes>"
            ]
          },
          "metadata": {
            "tags": [],
            "needs_background": "light"
          }
        }
      ]
    },
    {
      "cell_type": "code",
      "metadata": {
        "colab": {
          "base_uri": "https://localhost:8080/",
          "height": 665
        },
        "id": "gXbI77T4VFE5",
        "outputId": "15892527-b8b1-48d8-e2f3-fc1cecf154a8"
      },
      "source": [
        "#plot with lr=10\n",
        "\n",
        "net = net.to(current_device)\n",
        "\n",
        "criterion = nn.CrossEntropyLoss()\n",
        "#You can expermient with different lr and momentum\n",
        "optimizer = optim.SGD(net.parameters(), lr=10, momentum=0.9)\n",
        "\n",
        "num_epochs = 20\n",
        "y_1=[]\n",
        "for epoch in range(num_epochs):  # loop over the dataset multiple times\n",
        "\n",
        "    running_loss = 0.0\n",
        "    for i, data in enumerate(trainloader, 0):\n",
        "        # get the inputs; data is a list of [inputs, labels]\n",
        "        inputs, labels = data\n",
        "        #data is tensor format\n",
        "        data_temp = data\n",
        "\n",
        "        inputs = inputs.to(current_device)\n",
        "        labels = labels.to(current_device)\n",
        "\n",
        "        # zero the parameter gradients\n",
        "        optimizer.zero_grad()\n",
        "\n",
        "        # forward + backward + optimize\n",
        "        outputs = net(inputs)\n",
        "        loss = criterion(outputs, labels)\n",
        "        loss.backward()\n",
        "        optimizer.step()\n",
        "\n",
        "        # print statistics\n",
        "        running_loss += loss.item()\n",
        "        \n",
        "        rs=running_loss/len(trainloader)\n",
        "\n",
        "    y_1.append(rs)\n",
        "    print(\"The loss {:.4f} of {:.1f}th epoch\".format(rs,epoch))\n",
        "\n",
        "print('Finished Training') \n",
        "\n",
        "\n",
        "print('y_1',y_1)\n",
        "x_1=[i+1 for i in range(num_epochs)]\n",
        "plt.plot(x_1, y_1, color = 'blue')\n",
        "plt.ylabel('loss')\n",
        "plt.xlabel('epoch')\n",
        "plt.title('Loss with epochs: lr={:.3f}'.format(10))\n",
        "plt.show()\n"
      ],
      "execution_count": null,
      "outputs": [
        {
          "output_type": "stream",
          "text": [
            "The loss nan of 0.0th epoch\n",
            "The loss nan of 1.0th epoch\n",
            "The loss nan of 2.0th epoch\n",
            "The loss nan of 3.0th epoch\n",
            "The loss nan of 4.0th epoch\n",
            "The loss nan of 5.0th epoch\n",
            "The loss nan of 6.0th epoch\n",
            "The loss nan of 7.0th epoch\n",
            "The loss nan of 8.0th epoch\n",
            "The loss nan of 9.0th epoch\n",
            "The loss nan of 10.0th epoch\n",
            "The loss nan of 11.0th epoch\n",
            "The loss nan of 12.0th epoch\n",
            "The loss nan of 13.0th epoch\n",
            "The loss nan of 14.0th epoch\n",
            "The loss nan of 15.0th epoch\n",
            "The loss nan of 16.0th epoch\n",
            "The loss nan of 17.0th epoch\n",
            "The loss nan of 18.0th epoch\n",
            "The loss nan of 19.0th epoch\n",
            "Finished Training\n",
            "y_1 [nan, nan, nan, nan, nan, nan, nan, nan, nan, nan, nan, nan, nan, nan, nan, nan, nan, nan, nan, nan]\n"
          ],
          "name": "stdout"
        },
        {
          "output_type": "display_data",
          "data": {
            "image/png": "[encoded data removed]",
            "text/plain": [
              "<Figure size 432x288 with 1 Axes>"
            ]
          },
          "metadata": {
            "tags": [],
            "needs_background": "light"
          }
        }
      ]
    },
    {
      "cell_type": "markdown",
      "metadata": {
        "id": "BUhX4WVG1lPc"
      },
      "source": [
        "Lr has a great influence on loss function. When Lr = 0.01, loss decreased steadily with epoch. When Lr = 0.1, loss will increase in the middle of the process and then decrease steadily. If Lr is large, such as Lr = 10 and  Lr = 1, the convergence solution can not even be obtained. "
      ]
    },
    {
      "cell_type": "code",
      "metadata": {
        "id": "A2WkQ0GNY07N"
      },
      "source": [
        "#Testing the model\n",
        "correct = 0\n",
        "total = 0\n",
        "i=0\n",
        "with torch.no_grad():\n",
        "    for data in testloader:\n",
        "        images, labels = data\n",
        "        outputs = net(images.to(current_device))\n",
        "        labels = labels.to(current_device)\n",
        "        _, predicted = torch.max(outputs.data, 1)\n",
        "        print(predicted,i+1)\n",
        "        total += labels.size(0)\n",
        "        correct += (predicted != labels).sum().item()\n",
        "\n",
        "print('Accuracy of the network on the 10000 test images: %d %%' % (\n",
        "    100 * correct / total))"
      ],
      "execution_count": null,
      "outputs": []
    },
    {
      "cell_type": "markdown",
      "metadata": {
        "id": "AnaugbaVZ4N2"
      },
      "source": [
        "## **Part - 2 (20 Points)**"
      ]
    },
    {
      "cell_type": "markdown",
      "metadata": {
        "id": "gR36KWdOadYb"
      },
      "source": [
        "Question-1. Calculate the confusion matrix of the classifcation. (10 Points)"
      ]
    },
    {
      "cell_type": "markdown",
      "metadata": {
        "id": "260cwtVKasg6"
      },
      "source": [
        "Question-2. Calculate the Precision, Recall and F1-score for each class. (10 Points)\n",
        "\n",
        "(Hint - You can find this article useful - https://towardsdatascience.com/confusion-matrix-for-your-multi-class-machine-learning-model-ff9aa3bf7826) "
      ]
    },
    {
      "cell_type": "code",
      "metadata": {
        "id": "kZDE40O37bvG",
        "colab": {
          "base_uri": "https://localhost:8080/"
        },
        "outputId": "bb3bfddb-c066-4593-caf4-09907b82b90c"
      },
      "source": [
        "#Compute the confusion matrix of the classification and the Precision, Recall and F1-score for each class\r\n",
        "nb_classes = 10\r\n",
        "confusion_matrix = torch.zeros(nb_classes, nb_classes)\r\n",
        "with torch.no_grad():\r\n",
        "    for i, (inputs, classes) in enumerate(testloader):\r\n",
        "        inputs = inputs.to(current_device)\r\n",
        "        classes = classes.to(current_device)\r\n",
        "        outputs = net(inputs.to(current_device))\r\n",
        "        _, preds = torch.max(outputs, 1)\r\n",
        "        for t, p in zip(classes.view(-1), preds.view(-1)):\r\n",
        "                confusion_matrix[t.long(), p.long()] += 1\r\n",
        "\r\n",
        "print(\"The confusion maatrix:\",confusion_matrix)\r\n",
        "\r\n",
        "\r\n",
        "# To get the per-class recall:\r\n",
        "recal=confusion_matrix.diag()/confusion_matrix.sum(0)\r\n",
        "print(\"The per-call recall:\",recal)\r\n",
        "\r\n",
        "# To get the per-class accuracy:\r\n",
        "accura=confusion_matrix.diag()/confusion_matrix.sum(1)\r\n",
        "print(\"The per-class accuracy:\", accura)\r\n",
        "\r\n",
        "#To ger the F1-score\r\n",
        "F1_score=2*recal* accura/(recal+accura)\r\n",
        "print(\"The F1-scor:\", F1_score)\r\n",
        "\r\n"
      ],
      "execution_count": null,
      "outputs": [
        {
          "output_type": "stream",
          "text": [
            "The confusion maatrix: tensor([[634.,  22.,  13.,   6.,  49.,   5.,  25.,  31., 167.,  48.],\n",
            "        [ 57., 397.,   0.,   5.,  15.,   2.,  90.,  16., 154., 264.],\n",
            "        [207.,  18., 120.,  56., 279.,  57., 123.,  89.,  27.,  24.],\n",
            "        [ 96.,   8.,  24., 156., 136., 108., 297.,  93.,  43.,  39.],\n",
            "        [104.,   5.,  36.,  33., 474.,  28., 150., 133.,  23.,  14.],\n",
            "        [ 74.,   9.,  42., 158., 123., 210., 152., 177.,  35.,  20.],\n",
            "        [ 36.,  10.,  11.,  36., 202.,  15., 595.,  34.,  21.,  40.],\n",
            "        [ 69.,   5.,  14.,  27., 127.,  45.,  76., 577.,  11.,  49.],\n",
            "        [191.,  38.,   4.,  12.,  28.,   6.,  29.,  17., 627.,  48.],\n",
            "        [ 65.,  87.,   3.,  11.,  19.,  11.,  98.,  39., 189., 478.]])\n",
            "The per-call recall: tensor([0.4136, 0.6628, 0.4494, 0.3120, 0.3264, 0.4312, 0.3639, 0.4784, 0.4834,\n",
            "        0.4668])\n",
            "The per-class accuracy: tensor([0.6340, 0.3970, 0.1200, 0.1560, 0.4740, 0.2100, 0.5950, 0.5770, 0.6270,\n",
            "        0.4780])\n",
            "The F1-scor: tensor([0.5006, 0.4966, 0.1894, 0.2080, 0.3866, 0.2824, 0.4516, 0.5231, 0.5459,\n",
            "        0.4723])\n"
          ],
          "name": "stdout"
        }
      ]
    }
  ]
}